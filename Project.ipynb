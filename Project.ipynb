{
 "cells": [
  {
   "cell_type": "markdown",
   "metadata": {},
   "source": [
    "# Projet Text Analysis\n",
    "## Havard Josquin\n",
    "\n",
    "Le but est ici de faire un classifieur sur les documents de la database tobaco.\n",
    "\n",
    "- Les données seront représentés sous forme de bag of word.\n",
    "\n",
    "- Le classifieur utilisé sera un SVM"
   ]
  },
  {
   "cell_type": "code",
   "execution_count": 1,
   "metadata": {},
   "outputs": [],
   "source": [
    "import numpy as np\n",
    "import pandas as pd\n",
    "import seaborn as sns\n",
    "import time\n",
    "from sklearn.model_selection import train_test_split, GridSearchCV\n",
    "from sklearn.feature_extraction.text import CountVectorizer\n",
    "from sklearn.metrics import classification_report,confusion_matrix\n",
    "from sklearn.svm import SVC"
   ]
  },
  {
   "cell_type": "code",
   "execution_count": 2,
   "metadata": {},
   "outputs": [
    {
     "data": {
      "text/plain": [
       "<matplotlib.axes._subplots.AxesSubplot at 0x7fef6b978a90>"
      ]
     },
     "execution_count": 2,
     "metadata": {},
     "output_type": "execute_result"
    },
    {
     "data": {
      "image/png": "[encoded data removed]",
      "text/plain": [
       "<Figure size 432x288 with 1 Axes>"
      ]
     },
     "metadata": {
      "needs_background": "light"
     },
     "output_type": "display_data"
    }
   ],
   "source": [
    "df = pd.read_csv('data/Tobacco3482.csv')\n",
    "\n",
    "sns.countplot(data=df,y='label')"
   ]
  },
  {
   "cell_type": "markdown",
   "metadata": {},
   "source": [
    "### Récupération des données"
   ]
  },
  {
   "cell_type": "code",
   "execution_count": 3,
   "metadata": {},
   "outputs": [
    {
     "name": "stdout",
     "output_type": "stream",
     "text": [
      "0 / 3482 faits\r",
      "100 / 3482 faits\r",
      "200 / 3482 faits\r",
      "300 / 3482 faits\r",
      "400 / 3482 faits\r",
      "500 / 3482 faits\r",
      "600 / 3482 faits\r",
      "700 / 3482 faits\r",
      "800 / 3482 faits\r",
      "900 / 3482 faits\r",
      "1000 / 3482 faits\r",
      "1100 / 3482 faits\r",
      "1200 / 3482 faits\r",
      "1300 / 3482 faits\r",
      "1400 / 3482 faits\r",
      "1500 / 3482 faits\r",
      "1600 / 3482 faits\r",
      "1700 / 3482 faits\r",
      "1800 / 3482 faits\r",
      "1900 / 3482 faits\r",
      "2000 / 3482 faits\r",
      "2100 / 3482 faits\r",
      "2200 / 3482 faits\r",
      "2300 / 3482 faits\r",
      "2400 / 3482 faits\r",
      "2500 / 3482 faits\r",
      "2600 / 3482 faits\r",
      "2700 / 3482 faits\r",
      "2800 / 3482 faits\r",
      "2900 / 3482 faits\r",
      "3000 / 3482 faits\r",
      "3100 / 3482 faits\r",
      "3200 / 3482 faits\r",
      "3300 / 3482 faits\r",
      "3400 / 3482 faits\r",
      "Finit\n"
     ]
    }
   ],
   "source": [
    "file_name_path = df.img_path\n",
    "N = len(file_name_path)\n",
    "list_text = []\n",
    "\n",
    "for i in range(N):\n",
    "    file_name = file_name_path[i]\n",
    "    file_name = file_name.replace('.jpg','.txt')\n",
    "    with open('data/'+file_name) as my_file:\n",
    "        my_str = ''\n",
    "        for line in my_file:\n",
    "            my_str += line\n",
    "        list_text.append(my_str)\n",
    "    if i % 100 == 0 :\n",
    "        print(str(i) +' / '+str(N) + ' faits',end='\\r')\n",
    "\n",
    "print('Finit')\n",
    "\n",
    "df['text'] = list_text\n",
    "\n",
    "X = df.text\n",
    "\n",
    "labels = list(set(df.label))\n",
    "y = np.zeros(len(X),dtype='int')\n",
    "\n",
    "for i in range(len(X)):\n",
    "    y[i] = labels.index(df.label[i]) \n",
    "    \n",
    "X_train, X_test, y_train, y_test = train_test_split(X, y, test_size=0.2, random_state=42)"
   ]
  },
  {
   "cell_type": "code",
   "execution_count": 4,
   "metadata": {},
   "outputs": [
    {
     "data": {
      "text/html": [
       "<div>\n",
       "<style scoped>\n",
       "    .dataframe tbody tr th:only-of-type {\n",
       "        vertical-align: middle;\n",
       "    }\n",
       "\n",
       "    .dataframe tbody tr th {\n",
       "        vertical-align: top;\n",
       "    }\n",
       "\n",
       "    .dataframe thead th {\n",
       "        text-align: right;\n",
       "    }\n",
       "</style>\n",
       "<table border=\"1\" class=\"dataframe\">\n",
       "  <thead>\n",
       "    <tr style=\"text-align: right;\">\n",
       "      <th></th>\n",
       "      <th>img_path</th>\n",
       "      <th>label</th>\n",
       "      <th>text</th>\n",
       "    </tr>\n",
       "  </thead>\n",
       "  <tbody>\n",
       "    <tr>\n",
       "      <th>2574</th>\n",
       "      <td>News/2071620452_0454.jpg</td>\n",
       "      <td>News</td>\n",
       "      <td>Sua kwe Lovonees</td>\n",
       "    </tr>\n",
       "    <tr>\n",
       "      <th>304</th>\n",
       "      <td>Email/2073356804b.jpg</td>\n",
       "      <td>Email</td>\n",
       "      <td>-----Original Message-----\\nFrom:  Desel, Paul...</td>\n",
       "    </tr>\n",
       "    <tr>\n",
       "      <th>3294</th>\n",
       "      <td>Scientific/2026025182_2026025325.jpg</td>\n",
       "      <td>Scientific</td>\n",
       "      <td>INBIFO INSTITUT FUR BIOLOGISCHE FORSCHUNG\\n\\nK...</td>\n",
       "    </tr>\n",
       "    <tr>\n",
       "      <th>3378</th>\n",
       "      <td>Scientific/50085955_50085963.jpg</td>\n",
       "      <td>Scientific</td>\n",
       "      <td>LEAD CONTENT OF TOBACCO LEAVES\\n\\nFasavoe\\n\\na...</td>\n",
       "    </tr>\n",
       "    <tr>\n",
       "      <th>2747</th>\n",
       "      <td>Note/2051800478.jpg</td>\n",
       "      <td>Note</td>\n",
       "      <td>CHRIS E. HARDIN\\n\\n/2/lz\\n\\nlage —\\n\\nAtta CHe...</td>\n",
       "    </tr>\n",
       "    <tr>\n",
       "      <th>1764</th>\n",
       "      <td>Letter/71210664.jpg</td>\n",
       "      <td>Letter</td>\n",
       "      <td>BROWN &amp; WILLIAMSON\\nTOBACCO\\n\\nMrs. Corky Newt...</td>\n",
       "    </tr>\n",
       "    <tr>\n",
       "      <th>596</th>\n",
       "      <td>Email/2085136611b.jpg</td>\n",
       "      <td>Email</td>\n",
       "      <td>os Original Message---—-\\n\\nFrom: Karen.Chaiki...</td>\n",
       "    </tr>\n",
       "    <tr>\n",
       "      <th>1804</th>\n",
       "      <td>Letter/tnwl0002422.jpg</td>\n",
       "      <td>Letter</td>\n",
       "      <td>THE TOBACCO INSTITUTE\\n\\nSUITE 104 ALEXANDER H...</td>\n",
       "    </tr>\n",
       "    <tr>\n",
       "      <th>3445</th>\n",
       "      <td>Scientific/50649664-9664.jpg</td>\n",
       "      <td>Scientific</td>\n",
       "      <td>Proc. Natl. Acad. Sci. USA\\nVol. 87, pp. 6208-...</td>\n",
       "    </tr>\n",
       "    <tr>\n",
       "      <th>484</th>\n",
       "      <td>Email/2081917771.jpg</td>\n",
       "      <td>Email</td>\n",
       "      <td>ee Rt ARTA TTR RAT\\n10/06/90 10;08 FAX 804 274...</td>\n",
       "    </tr>\n",
       "  </tbody>\n",
       "</table>\n",
       "</div>"
      ],
      "text/plain": [
       "                                  img_path       label  \\\n",
       "2574              News/2071620452_0454.jpg        News   \n",
       "304                  Email/2073356804b.jpg       Email   \n",
       "3294  Scientific/2026025182_2026025325.jpg  Scientific   \n",
       "3378      Scientific/50085955_50085963.jpg  Scientific   \n",
       "2747                   Note/2051800478.jpg        Note   \n",
       "1764                   Letter/71210664.jpg      Letter   \n",
       "596                  Email/2085136611b.jpg       Email   \n",
       "1804                Letter/tnwl0002422.jpg      Letter   \n",
       "3445          Scientific/50649664-9664.jpg  Scientific   \n",
       "484                   Email/2081917771.jpg       Email   \n",
       "\n",
       "                                                   text  \n",
       "2574                                   Sua kwe Lovonees  \n",
       "304   -----Original Message-----\\nFrom:  Desel, Paul...  \n",
       "3294  INBIFO INSTITUT FUR BIOLOGISCHE FORSCHUNG\\n\\nK...  \n",
       "3378  LEAD CONTENT OF TOBACCO LEAVES\\n\\nFasavoe\\n\\na...  \n",
       "2747  CHRIS E. HARDIN\\n\\n/2/lz\\n\\nlage —\\n\\nAtta CHe...  \n",
       "1764  BROWN & WILLIAMSON\\nTOBACCO\\n\\nMrs. Corky Newt...  \n",
       "596   os Original Message---—-\\n\\nFrom: Karen.Chaiki...  \n",
       "1804  THE TOBACCO INSTITUTE\\n\\nSUITE 104 ALEXANDER H...  \n",
       "3445  Proc. Natl. Acad. Sci. USA\\nVol. 87, pp. 6208-...  \n",
       "484   ee Rt ARTA TTR RAT\\n10/06/90 10;08 FAX 804 274...  "
      ]
     },
     "execution_count": 4,
     "metadata": {},
     "output_type": "execute_result"
    }
   ],
   "source": [
    "df.sample(10)"
   ]
  },
  {
   "cell_type": "markdown",
   "metadata": {},
   "source": [
    "## Bag of word représentation"
   ]
  },
  {
   "cell_type": "code",
   "execution_count": 5,
   "metadata": {},
   "outputs": [],
   "source": [
    "vectorizer = CountVectorizer(max_features=2000)\n",
    "vectorizer.fit(X_train)\n",
    "X_train_counts = vectorizer.transform(X_train)\n",
    "X_test_counts = vectorizer.transform(X_test)"
   ]
  },
  {
   "cell_type": "markdown",
   "metadata": {},
   "source": [
    "### Classification"
   ]
  },
  {
   "cell_type": "code",
   "execution_count": 6,
   "metadata": {},
   "outputs": [
    {
     "name": "stdout",
     "output_type": "stream",
     "text": [
      "0 -> Form\n",
      "1 -> News\n",
      "2 -> Letter\n",
      "3 -> Resume\n",
      "4 -> Scientific\n",
      "5 -> Memo\n",
      "6 -> Note\n",
      "7 -> Advertisement\n",
      "8 -> Report\n",
      "9 -> Email\n"
     ]
    }
   ],
   "source": [
    "for i in range(len(labels)):\n",
    "    print(str(i) + ' -> ' + labels[i])"
   ]
  },
  {
   "cell_type": "code",
   "execution_count": 7,
   "metadata": {},
   "outputs": [
    {
     "name": "stdout",
     "output_type": "stream",
     "text": [
      "              precision    recall  f1-score   support\n",
      "\n",
      "           0       0.68      0.78      0.73        88\n",
      "           1       0.86      0.74      0.79        34\n",
      "           2       0.70      0.77      0.73       122\n",
      "           3       1.00      1.00      1.00        15\n",
      "           4       0.75      0.34      0.47        53\n",
      "           5       0.65      0.79      0.71       109\n",
      "           6       0.33      0.83      0.47        36\n",
      "           7       1.00      0.11      0.19        57\n",
      "           8       0.53      0.35      0.42        48\n",
      "           9       0.94      0.92      0.93       135\n",
      "\n",
      "   micro avg       0.69      0.69      0.69       697\n",
      "   macro avg       0.74      0.66      0.65       697\n",
      "weighted avg       0.75      0.69      0.68       697\n",
      "\n",
      "[[ 69   0   2   0   0   4  12   0   0   1]\n",
      " [  3  25   0   0   2   2   1   0   1   0]\n",
      " [  4   0  94   0   0  20   1   0   3   0]\n",
      " [  0   0   0  15   0   0   0   0   0   0]\n",
      " [ 11   0   4   0  18  10   3   0   7   0]\n",
      " [  1   1  11   0   1  86   1   0   2   6]\n",
      " [  3   0   1   0   0   2  30   0   0   0]\n",
      " [  4   1   3   0   0   0  40   6   2   1]\n",
      " [  6   2  16   0   3   4   0   0  17   0]\n",
      " [  0   0   3   0   0   5   3   0   0 124]]\n"
     ]
    }
   ],
   "source": [
    "clf = SVC(gamma='scale')\n",
    "\n",
    "clf.fit(X_train_counts, y_train)\n",
    "\n",
    "predict_label_counts = clf.predict(X_test_counts)\n",
    "\n",
    "\n",
    "class_counts = classification_report(y_test,predict_label_counts) \n",
    "\n",
    "matrice_counts = confusion_matrix(y_test,predict_label_counts)\n",
    "\n",
    "print(class_counts)\n",
    "print(matrice_counts)"
   ]
  },
  {
   "cell_type": "markdown",
   "metadata": {},
   "source": [
    "## Etude des hypers paramètres\n",
    "\n",
    "On étudie ici 3 hypers-paramètres : \n",
    "\n",
    "- Le noyau (RBF ou polynomial) \n",
    "- Le gamma pour RBF\n",
    "- Le degrée pour polynomial"
   ]
  },
  {
   "cell_type": "markdown",
   "metadata": {},
   "source": [
    "### Noyau RBF"
   ]
  },
  {
   "cell_type": "code",
   "execution_count": 24,
   "metadata": {},
   "outputs": [
    {
     "name": "stdout",
     "output_type": "stream",
     "text": [
      "Finit en 235.60139918327332\n"
     ]
    }
   ],
   "source": [
    "dic_params = {\n",
    "    'gamma' : np.logspace(-5,1,10),\n",
    "}\n",
    "\n",
    "clf = SVC(kernel='rbf')\n",
    "\n",
    "grid_search = GridSearchCV(clf,dic_params, cv = 4)\n",
    "\n",
    "t0 = time.time()\n",
    "\n",
    "grid_search.fit(X_train_counts, y_train)\n",
    "\n",
    "print('Finit en ' + str(time.time() - t0))"
   ]
  },
  {
   "cell_type": "code",
   "execution_count": 25,
   "metadata": {},
   "outputs": [
    {
     "name": "stdout",
     "output_type": "stream",
     "text": [
      "Best score: 0.694\n",
      "{'max_iter': -1, 'cache_size': 200, 'kernel': 'rbf', 'verbose': False, 'gamma': 0.001, 'degree': 3, 'probability': False, 'class_weight': None, 'C': 1.0, 'decision_function_shape': 'ovr', 'shrinking': True, 'tol': 0.001, 'coef0': 0.0, 'random_state': None}\n"
     ]
    }
   ],
   "source": [
    "print(\"Best score: %0.3f\" % grid_search.best_score_)\n",
    "print(grid_search.best_estimator_.get_params())"
   ]
  },
  {
   "cell_type": "code",
   "execution_count": 18,
   "metadata": {},
   "outputs": [
    {
     "name": "stdout",
     "output_type": "stream",
     "text": [
      "              precision    recall  f1-score   support\n",
      "\n",
      "           0       0.70      0.74      0.72        88\n",
      "           1       0.88      0.68      0.77        34\n",
      "           2       0.73      0.80      0.76       122\n",
      "           3       1.00      1.00      1.00        15\n",
      "           4       0.64      0.34      0.44        53\n",
      "           5       0.66      0.80      0.72       109\n",
      "           6       0.30      0.81      0.44        36\n",
      "           7       1.00      0.16      0.27        57\n",
      "           8       0.57      0.42      0.48        48\n",
      "           9       0.95      0.92      0.94       135\n",
      "\n",
      "   micro avg       0.70      0.70      0.70       697\n",
      "   macro avg       0.74      0.66      0.65       697\n",
      "weighted avg       0.75      0.70      0.69       697\n",
      "\n",
      "[[ 65   0   1   0   0   4  18   0   0   0]\n",
      " [  3  23   0   0   5   1   1   0   1   0]\n",
      " [  3   0  97   0   0  18   1   0   3   0]\n",
      " [  0   0   0  15   0   0   0   0   0   0]\n",
      " [ 10   0   4   0  18  10   4   0   7   0]\n",
      " [  0   1  11   0   1  87   1   0   2   6]\n",
      " [  3   0   1   0   0   3  29   0   0   0]\n",
      " [  3   0   2   0   1   0  40   9   2   0]\n",
      " [  6   2  14   0   3   3   0   0  20   0]\n",
      " [  0   0   3   0   0   5   3   0   0 124]]\n"
     ]
    }
   ],
   "source": [
    "best_parameters = grid_search.best_estimator_.get_params()\n",
    "\n",
    "clf = SVC(kernel='rbf',gamma=best_parameters['gamma'])\n",
    "\n",
    "clf.fit(X_train_counts, y_train)\n",
    "\n",
    "predict_label_counts = clf.predict(X_test_counts)\n",
    "\n",
    "class_counts = classification_report(y_test,predict_label_counts) \n",
    "\n",
    "matrice_counts = confusion_matrix(y_test,predict_label_counts)\n",
    "\n",
    "print(class_counts)\n",
    "print(matrice_counts)"
   ]
  },
  {
   "cell_type": "markdown",
   "metadata": {},
   "source": [
    "### Noyau polynomial"
   ]
  },
  {
   "cell_type": "code",
   "execution_count": 22,
   "metadata": {},
   "outputs": [
    {
     "name": "stdout",
     "output_type": "stream",
     "text": [
      "Finit en 106.87243604660034\n"
     ]
    }
   ],
   "source": [
    "dic_params = {\n",
    "    'degree' : np.linspace(0,15,5),\n",
    "}\n",
    "\n",
    "clf = SVC(kernel='poly',gamma='scale')\n",
    "\n",
    "grid_search = GridSearchCV(clf,dic_params, cv = 4)\n",
    "\n",
    "t0 = time.time()\n",
    "\n",
    "grid_search.fit(X_train_counts, y_train)\n",
    "\n",
    "print('Finit en ' + str(time.time() - t0))"
   ]
  },
  {
   "cell_type": "code",
   "execution_count": 23,
   "metadata": {},
   "outputs": [
    {
     "name": "stdout",
     "output_type": "stream",
     "text": [
      "Best score: 0.328\n"
     ]
    }
   ],
   "source": [
    "print(\"Best score: %0.3f\" % grid_search.best_score_)"
   ]
  },
  {
   "cell_type": "markdown",
   "metadata": {},
   "source": [
    "Le meilleur estimateur reste le SVM avec un noyau RBF et un gamma de 0.001.\n",
    "On obtient une précision de 0.75 et un recall de 0.70."
   ]
  },
  {
   "cell_type": "code",
   "execution_count": null,
   "metadata": {},
   "outputs": [],
   "source": []
  },
  {
   "cell_type": "code",
   "execution_count": null,
   "metadata": {},
   "outputs": [],
   "source": []
  }
 ],
 "metadata": {
  "kernelspec": {
   "display_name": "Python 3",
   "language": "python",
   "name": "python3"
  },
  "language_info": {
   "codemirror_mode": {
    "name": "ipython",
    "version": 3
   },
   "file_extension": ".py",
   "mimetype": "text/x-python",
   "name": "python",
   "nbconvert_exporter": "python",
   "pygments_lexer": "ipython3",
   "version": "3.5.2"
  }
 },
 "nbformat": 4,
 "nbformat_minor": 2
}
