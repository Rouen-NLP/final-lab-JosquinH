{
 "cells": [
  {
   "cell_type": "markdown",
   "metadata": {},
   "source": [
    "# Projet Text Analysis\n",
    "## Havard Josquin"
   ]
  },
  {
   "cell_type": "code",
   "execution_count": 1,
   "metadata": {},
   "outputs": [],
   "source": [
    "import numpy as np\n",
    "import pandas as pd\n",
    "import seaborn as sns\n",
    "import csv"
   ]
  },
  {
   "cell_type": "code",
   "execution_count": 4,
   "metadata": {},
   "outputs": [
    {
     "data": {
      "text/plain": [
       "<matplotlib.axes._subplots.AxesSubplot at 0x7f8a9c187748>"
      ]
     },
     "execution_count": 4,
     "metadata": {},
     "output_type": "execute_result"
    },
    {
     "data": {
      "image/png": "[encoded data removed]",
      "text/plain": [
       "<Figure size 432x288 with 1 Axes>"
      ]
     },
     "metadata": {
      "needs_background": "light"
     },
     "output_type": "display_data"
    }
   ],
   "source": [
    "df = pd.read_csv('data/Tobacco3482.csv')\n",
    "\n",
    "sns.countplot(data=df,y='label')"
   ]
  },
  {
   "cell_type": "markdown",
   "metadata": {},
   "source": [
    "### Récupération des données"
   ]
  },
  {
   "cell_type": "code",
   "execution_count": 14,
   "metadata": {},
   "outputs": [
    {
     "name": "stdout",
     "output_type": "stream",
     "text": [
      "Finit/ 3482 faits\n"
     ]
    }
   ],
   "source": [
    "\n",
    "file_name_path = df.img_path\n",
    "N = len(file_name_path)\n",
    "list_text = []\n",
    "\n",
    "for i in range(N):\n",
    "    file_name = file_name_path[i]\n",
    "    file_name = file_name.replace('.jpg','.txt')\n",
    "    with open('data/'+file_name) as my_file:\n",
    "        my_str = ''\n",
    "        for line in my_file:\n",
    "            my_str += line\n",
    "        list_text.append(my_str)\n",
    "    if i % 100 == 0 :\n",
    "        print(str(i) +' / '+str(N) + ' faits',end='\\r')\n",
    "\n",
    "print('Finit')\n",
    "\n",
    "df['text'] = list_text"
   ]
  },
  {
   "cell_type": "code",
   "execution_count": 16,
   "metadata": {},
   "outputs": [
    {
     "data": {
      "text/html": [
       "<div>\n",
       "<style scoped>\n",
       "    .dataframe tbody tr th:only-of-type {\n",
       "        vertical-align: middle;\n",
       "    }\n",
       "\n",
       "    .dataframe tbody tr th {\n",
       "        vertical-align: top;\n",
       "    }\n",
       "\n",
       "    .dataframe thead th {\n",
       "        text-align: right;\n",
       "    }\n",
       "</style>\n",
       "<table border=\"1\" class=\"dataframe\">\n",
       "  <thead>\n",
       "    <tr style=\"text-align: right;\">\n",
       "      <th></th>\n",
       "      <th>img_path</th>\n",
       "      <th>label</th>\n",
       "      <th>text</th>\n",
       "    </tr>\n",
       "  </thead>\n",
       "  <tbody>\n",
       "    <tr>\n",
       "      <th>792</th>\n",
       "      <td>Email/529202087+-2087.jpg</td>\n",
       "      <td>Email</td>\n",
       "      <td>From: Bradt, Christine\\n\\nTo: Ittermann, Patti...</td>\n",
       "    </tr>\n",
       "    <tr>\n",
       "      <th>438</th>\n",
       "      <td>Email/2078881416.jpg</td>\n",
       "      <td>Email</td>\n",
       "      <td>2078881416\\n\\nFrom: Cha, Elizabeth\\n\\nSent: Th...</td>\n",
       "    </tr>\n",
       "  </tbody>\n",
       "</table>\n",
       "</div>"
      ],
      "text/plain": [
       "                      img_path  label  \\\n",
       "792  Email/529202087+-2087.jpg  Email   \n",
       "438       Email/2078881416.jpg  Email   \n",
       "\n",
       "                                                  text  \n",
       "792  From: Bradt, Christine\\n\\nTo: Ittermann, Patti...  \n",
       "438  2078881416\\n\\nFrom: Cha, Elizabeth\\n\\nSent: Th...  "
      ]
     },
     "execution_count": 16,
     "metadata": {},
     "output_type": "execute_result"
    }
   ],
   "source": [
    "df.sample(2)\n"
   ]
  },
  {
   "cell_type": "code",
   "execution_count": null,
   "metadata": {},
   "outputs": [],
   "source": []
  },
  {
   "cell_type": "code",
   "execution_count": null,
   "metadata": {},
   "outputs": [],
   "source": []
  },
  {
   "cell_type": "code",
   "execution_count": null,
   "metadata": {},
   "outputs": [],
   "source": []
  }
 ],
 "metadata": {
  "kernelspec": {
   "display_name": "Python 3",
   "language": "python",
   "name": "python3"
  },
  "language_info": {
   "codemirror_mode": {
    "name": "ipython",
    "version": 3
   },
   "file_extension": ".py",
   "mimetype": "text/x-python",
   "name": "python",
   "nbconvert_exporter": "python",
   "pygments_lexer": "ipython3",
   "version": "3.5.2"
  }
 },
 "nbformat": 4,
 "nbformat_minor": 2
}
